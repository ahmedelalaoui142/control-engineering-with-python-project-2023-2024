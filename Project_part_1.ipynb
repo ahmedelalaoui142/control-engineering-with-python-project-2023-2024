{
  "cells": [
    {
      "cell_type": "markdown",
      "metadata": {
        "id": "view-in-github",
        "colab_type": "text"
      },
      "source": [
        "<a href=\"https://colab.research.google.com/github/ahmedelalaoui142/control-engineering-with-python-project-2023-2024/blob/master/Project_part_1.ipynb\" target=\"_parent\"><img src=\"https://colab.research.google.com/assets/colab-badge.svg\" alt=\"Open In Colab\"/></a>"
      ]
    },
    {
      "cell_type": "markdown",
      "metadata": {
        "tags": [],
        "id": "gbGdMKxdj683"
      },
      "source": [
        "# Self-Balancing Scooter Control\n",
        "\n",
        "![](images/self-balancing-scooter.png)\n",
        "\n",
        "> A self-balancing scooter [...] is a self-balancing personal transporter consisting of two motorized wheels connected to a pair of articulated pads on which the rider places their feet. The rider controls the speed by leaning forward or backward, and direction of travel by twisting the pads.\n",
        ">\n",
        "> Source: <https://en.wikipedia.org/wiki/Self-balancing_scooter>"
      ]
    },
    {
      "cell_type": "markdown",
      "metadata": {
        "id": "B7zcWaolj688"
      },
      "source": [
        "### Python Dependencies"
      ]
    },
    {
      "cell_type": "code",
      "execution_count": null,
      "metadata": {
        "id": "c-GuY7-Mj68-"
      },
      "outputs": [],
      "source": [
        "from numpy import *\n",
        "from numpy.linalg import *\n",
        "\n",
        "from scipy.linalg import *\n",
        "from scipy.integrate import *\n",
        "from scipy.signal import *\n",
        "\n",
        "from matplotlib.pyplot import *"
      ]
    },
    {
      "cell_type": "markdown",
      "metadata": {
        "tags": [],
        "id": "uund_-N4j69A"
      },
      "source": [
        "Step 1 - Scooter Planar Model\n",
        "================================"
      ]
    },
    {
      "cell_type": "markdown",
      "metadata": {
        "tags": [],
        "id": "atPZiRDzj69B"
      },
      "source": [
        "### Introduction"
      ]
    },
    {
      "cell_type": "markdown",
      "metadata": {
        "tags": [],
        "id": "O_0VoMRrj69C"
      },
      "source": [
        "We consider a simple model of a self-balancing scooter evolving in the plane. It is mainly made of\n",
        "\n",
        "  - The frame that contains the two articulated pads; from above, each pad essentially look like a triangle (one vertice in the center of the frame, one vertice at each extremity of the wheel).\n",
        "\n",
        "  - Two fixed wheels (their orientation with respect to the frame does not change).\n",
        "    They are parallel and located at opposite ends of the frame.\n",
        "    \n",
        "Let $(0, e_x, e_y)$ be a direct orthonormal frame of the plane. We denote\n",
        "\n",
        "  - $(x, y)$ the coordinates of the wheel axis center in the orthonormal and\n",
        "  - $\\theta$ the angle of the wheels direction with respect to vector $e_x$ ; with $\\theta = 0$ when the front of the scooter faces the right ($e_x$) and $\\theta = \\pi/2$ when it faces upwards ($e_y$).\n",
        "\n",
        "  - $\\phi_l$ and $\\phi_r$ the rotation angles of the left and right wheel respectively ; by convention, when these angles increase, the scooter moves forward."
      ]
    },
    {
      "cell_type": "markdown",
      "metadata": {
        "tags": [],
        "id": "dFmCTgf_j69D"
      },
      "source": [
        "### Parameter Definition"
      ]
    },
    {
      "cell_type": "markdown",
      "metadata": {
        "tags": [],
        "id": "sgVDOvvJj69D"
      },
      "source": [
        "From now on, we assume that the seat frame length is $\\ell = 50 \\mbox{ cm}$ and the wheel radius is $r = 12.5 \\mbox{ cm}$.\n",
        "\n",
        "🧩 Define the corresponding Python variables `l` and `r` (express every length in meters, and more generally in the sequel, always use the [international standard of units](https://en.wikipedia.org/wiki/SI_derived_unit)) for numerical values."
      ]
    },
    {
      "cell_type": "code",
      "execution_count": null,
      "metadata": {
        "id": "q0mLk2RVj69F"
      },
      "outputs": [],
      "source": [
        "l = 0.5  # seat frame length in meters\n",
        "r = 0.125  # wheel radius in meters\n"
      ]
    },
    {
      "cell_type": "markdown",
      "metadata": {
        "id": "3QiRIkW-j69G"
      },
      "source": [
        "### Graphical Representation\n",
        "\n",
        "🧩 Implement a function `draw_scooter` with arguments `x`, `y` and `theta` that draws a simple geometric model of the wheelchair (with a red frame and black fixed wheels) in the plane (top view) for arbitrary values of $(x, y)$ and $\\theta$. Use a green circle marker 50 cm in of the frame to indicate which way is forward.\n",
        "\n",
        "🗝️ **Hint.** Use the function `plot` of `matplotlib.pyplot`."
      ]
    },
    {
      "cell_type": "code",
      "execution_count": 17,
      "metadata": {
        "id": "KPX1ZCqbj69H"
      },
      "outputs": [],
      "source": [
        "def draw_scooter(x, y, theta):\n",
        "\n",
        "    #Wheels\n",
        "    #right wheel\n",
        "    x1 = x + sin(theta)*l/2\n",
        "    y1 = y - cos(theta)*l/2\n",
        "    x1_ = linspace(x1-cos(theta)*r,x1+cos(theta)*r, 100)\n",
        "    y1_ = linspace(y1-sin(theta)*r,y1+sin(theta)*r, 100)\n",
        "    plot(x1_, y1_, '-', linewidth=4,color='black')\n",
        "\n",
        "    #left wheel\n",
        "    x2 = x - sin(theta)*l/2\n",
        "    y2 = y + cos(theta)*l/2\n",
        "    x2_ = linspace(x2-cos(theta)*r,x2+cos(theta)*r, 100)\n",
        "    y2_ = linspace(y2-sin(theta)*r,y2+sin(theta)*r, 100)\n",
        "    plot(x2_, y2_, '-',linewidth=4,color='black')\n",
        "\n",
        "    #Scooter\n",
        "    points=[[x1-cos(theta)*r,y1-sin(theta)*r],[x1+cos(theta)*r,y1+sin(theta)*r],[x2-cos(theta)*r,y2-sin(theta)*r],[x2+cos(theta)*r,y2+sin(theta)*r]]\n",
        "    polygon = Polygon(points,closed=True, edgecolor='red', fill=True, facecolor='red')\n",
        "    gca().add_patch(polygon)\n",
        "\n",
        "    # Direction\n",
        "    forward = [x + 0.5 * np.cos(theta), y + 0.5 * np.sin(theta)]\n",
        "    gca().add_patch(Circle(forward, 0.02, color='green'))"
      ]
    },
    {
      "cell_type": "markdown",
      "metadata": {
        "id": "x5IU1ihqj69I"
      },
      "source": [
        "🧩 Represent the wheelchair when $(x, y, \\theta) = (0, 0, 0), (2, 2, \\pi/2), (0, 4, \\pi), (-2, 2, 3\\pi/2)$.\n",
        "\n",
        "🗝️ **Hint.** Use the following `draw_arena` function beforehand."
      ]
    },
    {
      "cell_type": "code",
      "execution_count": 11,
      "metadata": {
        "id": "t9HciW5Vj69J"
      },
      "outputs": [],
      "source": [
        "def draw_arena(xmin, xmax, ymin, ymax):\n",
        "    wh_ratio = (xmax - xmin) / (ymax - ymin)\n",
        "    figsize = fig_width, fig_height = 16, 16 / wh_ratio\n",
        "    figure(figsize=figsize)\n",
        "    axes = gca()\n",
        "    axes.axis([xmin, xmax, ymin, ymax])\n",
        "    axes.set_aspect(1)\n",
        "    xticks(arange(xmin, xmax+1, 1))\n",
        "    yticks(arange(ymin, ymax+1, 1))\n",
        "    grid(True)"
      ]
    },
    {
      "cell_type": "code",
      "execution_count": 18,
      "metadata": {
        "id": "Bh3qINi2j69J",
        "outputId": "0b088b94-2a93-4030-f2b2-81dcc45359d7",
        "colab": {
          "base_uri": "https://localhost:8080/",
          "height": 774
        }
      },
      "outputs": [
        {
          "output_type": "display_data",
          "data": {
            "text/plain": [
              "<Figure size 1600x960 with 1 Axes>"
            ],
            "image/png": "[encoded data removed]"
          },
          "metadata": {}
        }
      ],
      "source": [
        "draw_arena(-5,5,-1,5)\n",
        "draw_scooter(0,0,0)\n",
        "draw_scooter(2,2,pi/2)\n",
        "draw_scooter(0,4,pi)\n",
        "draw_scooter(-2,2,3*pi/2)"
      ]
    },
    {
      "cell_type": "markdown",
      "metadata": {
        "id": "T-AMJhOKj69N"
      },
      "source": [
        "### Kinematic Modeling\n",
        "\n",
        "We assume that we can control the wheels angular velocities $\\omega_l = \\dot{\\phi}_l$ and $\\omega_r = \\dot{\\phi}_r$ (this is a *kinematic* model of the wheelchair).\n",
        "We also assume that the wheelchair fixed wheels roll without slipping.\n",
        "\n",
        "🧩 Establish the differential equations that relate $\\dot{x}$,\n",
        "$\\dot{y}$ and $\\dot{\\theta}$ with $\\omega_l$ and $\\omega_r$."
      ]
    },
    {
      "cell_type": "markdown",
      "metadata": {
        "id": "3sz8lh3lj69O"
      },
      "source": [
        "To establish the differential equations relating the scooter's kinematics in terms of its coordinates $ (x, y)$, orientation $ \\theta $, and the wheels' angular velocities $\\omega_l $ and $\\omega_r $, we can start by considering the geometry and motion constraints of the scooter.\n",
        "\n",
        "### Geometry of the Scooter\n",
        "1. **Wheel Diameter and Axis:** Let \\(d\\) be the diameter of each wheel, and $\\(R = \\frac{d}{2}\\) be the radius. The wheels are fixed, parallel, and do not change orientation relative to the frame.\n",
        "2. **Width of the Scooter:** Let \\(w\\) be the distance between the centers of the two wheels (i.e., the width of the scooter).\n",
        "\n",
        "### No-slip Condition\n",
        "The no-slip condition means that the linear velocity at the point of contact of each wheel with the ground is purely translational and matches the overall velocity of the scooter's frame. Thus, the tangential velocity of each wheel due to its rotation must be equal to the translational velocity of the scooter at those points.\n",
        "\n",
        "### Kinematic Relations\n",
        "Given the radius $ R $ of the wheels and the angular velocities $\\omega_l $ and $ \\omega_r $ of the left and right wheels, the translational velocities $ v_l $ and $ v_r $ of these wheels are given by:\n",
        "$ v_l = R \\omega_l $\n",
        "\n",
        "\n",
        "$ v_r = R \\omega_r $\n",
        "\n",
        "### Average Velocity and Turning Rate\n",
        "1. **Average Forward Velocity $(\\dot{x}, \\dot{y})$:**\n",
        "   The average forward velocity of the scooter is the average of the velocities of the two wheels. Since the wheels are aligned parallel to the scooter's heading, the average forward velocity \\(V\\) in the direction $\\theta\\$ is:\n",
        "    V = $\\frac{v_l + v_r}{2} $\n",
        "\n",
        "2. **Rotational Velocity $(\\dot{\\theta})$:**\n",
        "   The difference in wheel velocities induces a rotational motion around the center point between the wheels. The angular velocity $\\dot{\\theta}$ of the scooter is given by the difference in wheel velocities divided by the width $ w $:\n",
        "   $\\dot{\\theta} = \\frac{v_r - v_l}{w}$\n",
        "\n",
        "### Computing  $\\dot{x} $ and $\\dot{y}$\n",
        "The velocity components in the global frame coordinates $ x$  and $ y $ can be determined from $V$ and $theta$ using:\n",
        "\n",
        "$\\dot{x} = V \\cos(\\theta)$\n",
        "\n",
        "$\\dot{y} = V \\sin(\\theta)$\n",
        "\n",
        "Substituting $V $ from the average of $ v_l$ and $v_r$, we get:\n",
        "\n",
        "$\\dot{x} = \\frac{R \\omega_l + R \\omega_r}{2} \\cos(\\theta) $\n",
        "\n",
        "$\\dot{y} = \\frac{R \\omega_l + R \\omega_r}{2} \\sin(\\theta) $\n",
        "\n",
        "$\\dot{\\theta} = \\frac{R (\\omega_r - \\omega_l)}{w} $\n",
        "\n",
        "### Final Differential Equations\n",
        "$\\dot{x} = R \\frac{\\omega_l + \\omega_r}{2} \\cos(\\theta) $\n",
        "\n",
        "$\\dot{y} = R \\frac{\\omega_l + \\omega_r}{2} \\sin(\\theta) $\n",
        "\n",
        "$\\dot{\\theta} = \\frac{R (\\omega_r - \\omega_l)}{w} $\n",
        "\n",
        "These equations link the scooter's translational and rotational motion to the angular velocities of its wheels and form the basis for controlling its movement in the plane."
      ]
    },
    {
      "cell_type": "markdown",
      "metadata": {
        "id": "J0rVO7dQj69O"
      },
      "source": [
        "### Analysis\n",
        "\n",
        "🧩 Show that if $\\omega_l$ and $\\omega_r$ are continuously differentiable functions of $(x, y, \\theta)$ (which includes the case of constant inputs), this system is well-posed."
      ]
    },
    {
      "cell_type": "markdown",
      "metadata": {
        "id": "Kqx_gj6-j69O"
      },
      "source": [
        "To demonstrate that the system of differential equations governing the kinematics of a self-balancing scooter is well-posed when $ \\omega_l $ and $\\omega_r $ are continuously differentiable functions of $(x, y, \\theta) $, we need to examine the properties of existence, uniqueness, and continuous dependence on initial conditions for the solutions to these differential equations. These properties are generally assured by verifying that the system satisfies certain conditions often linked to the theory of ordinary differential equations.\n",
        "\n",
        "### Functions $f$ and $g$\n",
        "Let's define:\n",
        "\n",
        "$f(x, y, \\theta) = R \\frac{\\omega_l(x, y, \\theta) + \\omega_r(x, y, \\theta)}{2} $\n",
        "\n",
        "$g(x, y, \\theta) = R \\frac{\\omega_r(x, y, \\theta) - \\omega_l(x, y, \\theta)}{w}$\n",
        "\n",
        "Thus, the system can be rewritten as:\n",
        "$\\dot{x} = f(x, y, \\theta) \\cos(\\theta) $\n",
        "\n",
        "$\\dot{y} = f(x, y, \\theta) \\sin(\\theta) $\n",
        "\n",
        "$\\dot{\\theta} = g(x, y, \\theta) $\n",
        "\n",
        "\n",
        "### Analysis for Well-Posedness\n",
        "1. **Continuously Differentiable**: Since $\\omega_l$ and $\\omega_r $ are given as continuously differentiable functions of $(x, y, \\theta) $, it implies that $f $ and $g$ are also continuously differentiable with respect to $(x, y, \\theta)$. This continuity in the first derivatives is critical.\n",
        "\n",
        "2. **Existence and Uniqueness**: According to the Picard-Lindelöf theorem (a specific case of the Cauchy-Lipschitz theorem for ODEs), a system of ODEs $\\dot{y} = F(y, t)$ where $F$ is Lipschitz continuous with respect to $y$ and continuous in $t$, guarantees local existence and uniqueness of solutions. In our case, $F(x, y, \\theta) = (f(x, y, \\theta) \\cos(\\theta), f(x, y, \\theta) \\sin(\\theta), g(x, y, \\theta)) $ fulfills these conditions because:\n",
        "   - \\( f \\) and \\( g \\) being continuously differentiable ensure that \\( F \\) is Lipschitz continuous in a neighborhood of any point in the domain.\n",
        "\n",
        "3. **Continuous Dependence on Initial Conditions**: The solutions also continuously depend on initial conditions, a consequence of the functions' continuous differentiability and the properties guaranteed by the Picard-Lindelöf theorem.\n",
        "\n",
        "### Conclusion\n",
        "Given that $f$ and $g$ derived from $\\omega_l$ and $\\omega_r$ are continuously differentiable, the system of differential equations is well-posed. This implies that for any initial condition $(x_0, y_0, \\theta_0)$, there exists a unique solution $(x(t), y(t), \\theta(t))$ that continuously depends on these initial conditions, at least locally around the initial point. This solution can be extended as long as the functions $f$ and $ g$ remain well-defined and their derivatives stay bounded."
      ]
    },
    {
      "cell_type": "markdown",
      "metadata": {
        "id": "h4Kl3nKpj69P"
      },
      "source": [
        "🧩 Show that if $\\omega_l$ and $\\omega_r$ are constants, the maximal solution associated to any initial state is global. Is is still true of $\\omega_l$ and $\\omega_r$ are arbitrary continuously differentiable functions of $(x, y, \\theta)$ ?"
      ]
    },
    {
      "cell_type": "markdown",
      "metadata": {
        "id": "NA8fHAEvj69P"
      },
      "source": [
        "### Case of Constant \\(\\omega_l\\) and \\(\\omega_r\\)\n",
        "\n",
        "When $\\omega_l$ and $\\omega_r$ are constants, the differential equations describing the scooter's motion are linear with respect to the trigonometric functions of $\\theta\\$, and the coefficients in these equations are constants:\n",
        "\n",
        "$\\dot{x} = R \\frac{\\omega_l + \\omega_r}{2} \\cos(\\theta)$\n",
        "\n",
        "$\\dot{y} = R \\frac{\\omega_l + \\omega_r}{2} \\sin(\\theta)$\n",
        "\n",
        "$\\dot{\\theta} = \\frac{R (\\omega_r - \\omega_l)}{w}$\n",
        "\n",
        "In this scenario:\n",
        "- The terms governing the dynamics are bounded since they involve constant coefficients and trigonometric functions.\n",
        "- The equations do not contain any nonlinear terms or dependencies that could lead to unbounded behavior or singularities.\n",
        "- Thus, the solutions are **global**, meaning they exist for all $ t \\in (-\\infty, \\infty) $\n",
        "\n",
        "### Case of Variable $\\omega_l$ and $\\omega_r$\n",
        "\n",
        "When $\\omega_l$ and $\\omega_r$ are functions of $x, y$ and $\\theta$ and are continuously differentiable:\n",
        "- The system becomes nonlinear, potentially introducing complex dynamics.\n",
        "- The behavior of $\\omega_l(x, y, \\theta)$ and $\\omega_r(x, y, \\theta)$ could lead to scenarios where the solution might blow up or become undefined within a finite time.\n",
        "- **Global solutions are not guaranteed** without additional conditions that ensure boundedness and the absence of singular behaviors in $\\omega_l$ and $\\omega_r$\n",
        "\n",
        "In summary, for constant $\\omega_l$ and $\\omega_r$, the solution is always global. For variable $\\omega_l$ and $\\omega_r$, additional analysis is required to assert the existence of global solutions."
      ]
    },
    {
      "cell_type": "markdown",
      "metadata": {
        "id": "s87B6xLPj69Q"
      },
      "source": [
        "### Vector Field\n",
        "\n",
        "In the sequel, `omega` is a function that computes the input vector $\\omega := (\\omega_l, \\omega_r)$ given the time $t$ and $(x, y, \\theta)$ (thus, it may depend on the time and/or on the system state if needed). For example:"
      ]
    },
    {
      "cell_type": "code",
      "execution_count": 13,
      "metadata": {
        "id": "yICIOv0wj69Q"
      },
      "outputs": [],
      "source": [
        "def omega(t, xytheta):\n",
        "    omega_l = (1 - l/4) * pi / r\n",
        "    omega_r = (1 + l/4) * pi / r\n",
        "    return array([omega_l, omega_r])"
      ]
    },
    {
      "cell_type": "markdown",
      "metadata": {
        "id": "QkVhWFfnj69Q"
      },
      "source": [
        "🧩 Implement a function `fun(t, xytheta)` that computes $(\\dot{x}, \\dot{y}, \\dot{\\theta})$ given the time $t$ and $(x,y,\\theta)$ (and implicitly the inputs $\\omega$ computed by the function `omega`)."
      ]
    },
    {
      "cell_type": "code",
      "execution_count": 15,
      "metadata": {
        "id": "3uGxR6JPj69R"
      },
      "outputs": [],
      "source": [
        "import numpy as np\n",
        "\n",
        "# Constants (Example values)\n",
        "R = 0.5  # Radius of the wheels\n",
        "l = 1.2  # Distance between the wheels\n",
        "\n",
        "def omega(t, xytheta):\n",
        "    r = 1.0  # Example radius for computation\n",
        "    omega_l = (1 - 1/4) * np.pi / r\n",
        "    omega_r = (1 + 1/4) * np.pi / r\n",
        "    return np.array([omega_l, omega_r])\n",
        "\n",
        "def fun(t, xytheta):\n",
        "    x, y, theta = xytheta\n",
        "    omega_values = omega(t, xytheta)\n",
        "    omega_l = omega_values[0]\n",
        "    omega_r = omega_values[1]\n",
        "\n",
        "    # Compute the derivatives\n",
        "    dot_x = R * (omega_l + omega_r) / 2 * np.cos(theta)\n",
        "    dot_y = R * (omega_l + omega_r) / 2 * np.sin(theta)\n",
        "    dot_theta = R * (omega_r - omega_l) / w\n",
        "\n",
        "    return np.array([dot_x, dot_y, dot_theta])\n"
      ]
    },
    {
      "cell_type": "markdown",
      "metadata": {
        "id": "t5MSe_mXj69R"
      },
      "source": [
        "### Simulation Setup\n",
        "\n",
        "🧩 Simulate the wheelchair dynamics for 4 seconds when $(x_0, y_0, \\theta_0)(t=0) = (0.0, 0.0, 0.0)$,\n",
        "and the wheels velocities are the constants $\\omega_l = (1 - \\ell/4)  \\pi / r \\mbox{ rad/s}$ and $\\omega_r = (1 + \\ell/4)  \\pi / r \\mbox{ rad/s}$.\n",
        "(Compute the dense outputs.)\n",
        "   "
      ]
    },
    {
      "cell_type": "code",
      "execution_count": 16,
      "metadata": {
        "id": "Wp1YoRYij69S",
        "colab": {
          "base_uri": "https://localhost:8080/",
          "height": 1000
        },
        "outputId": "13c401aa-dce0-4cd5-c927-e6912265881b"
      },
      "outputs": [
        {
          "output_type": "display_data",
          "data": {
            "text/plain": [
              "<Figure size 1200x800 with 3 Axes>"
            ],
            "image/png": "[encoded data removed]"
          },
          "metadata": {}
        },
        {
          "output_type": "stream",
          "name": "stdout",
          "text": [
            "Time: 0.0s, Location: (x=0.00, y=0.00, theta=0.00 rad)\n",
            "Time: 0.0s, Location: (x=0.01, y=0.00, theta=0.01 rad)\n",
            "Time: 0.5s, Location: (x=0.78, y=0.13, theta=0.33 rad)\n",
            "Time: 1.0s, Location: (x=1.46, y=0.50, theta=0.66 rad)\n",
            "Time: 1.5s, Location: (x=2.00, y=1.08, theta=0.99 rad)\n",
            "Time: 2.0s, Location: (x=2.32, y=1.79, theta=1.31 rad)\n",
            "Time: 2.5s, Location: (x=2.40, y=2.56, theta=1.64 rad)\n",
            "Time: 2.5s, Location: (x=2.39, y=2.57, theta=1.64 rad)\n",
            "Time: 3.0s, Location: (x=2.21, y=3.32, theta=1.97 rad)\n",
            "Time: 3.5s, Location: (x=1.80, y=3.98, theta=2.29 rad)\n",
            "Time: 4.0s, Location: (x=1.20, y=4.48, theta=2.62 rad)\n"
          ]
        }
      ],
      "source": [
        "import numpy as np\n",
        "import matplotlib.pyplot as plt\n",
        "from scipy.integrate import solve_ivp\n",
        "\n",
        "# Constants\n",
        "R = 0.5  # Radius of the wheels\n",
        "w = 1.2  # Distance between the wheels\n",
        "\n",
        "# Initial conditions\n",
        "xytheta0 = [0.0, 0.0, 0.0]\n",
        "t_span = [0, 4]  # Time from 0 to 4 seconds\n",
        "t_eval = np.linspace(t_span[0], t_span[1], 500)  # Dense output for plotting\n",
        "\n",
        "# Solve the system\n",
        "sol = solve_ivp(fun, t_span, xytheta0, t_eval=t_eval, method='RK45')\n",
        "\n",
        "# Plotting x(t), y(t), and theta(t)\n",
        "plt.figure(figsize=(12, 8))\n",
        "plt.subplot(311)\n",
        "plt.plot(sol.t, sol.y[0], label='x(t)')\n",
        "plt.title('Position x(t)')\n",
        "plt.xlabel('Time (s)')\n",
        "plt.ylabel('x')\n",
        "plt.grid(True)\n",
        "\n",
        "plt.subplot(312)\n",
        "plt.plot(sol.t, sol.y[1], label='y(t)')\n",
        "plt.title('Position y(t)')\n",
        "plt.xlabel('Time (s)')\n",
        "plt.ylabel('y')\n",
        "plt.grid(True)\n",
        "\n",
        "plt.subplot(313)\n",
        "plt.plot(sol.t, sol.y[2], label='theta(t)')\n",
        "plt.title('Orientation theta(t)')\n",
        "plt.xlabel('Time (s)')\n",
        "plt.ylabel('Theta (rad)')\n",
        "plt.grid(True)\n",
        "\n",
        "plt.tight_layout()\n",
        "plt.show()\n",
        "\n",
        "# Display the robot location every 0.5 second\n",
        "indices = np.where(np.isclose(sol.t % 0.5, 0, atol=1e-2))[0]\n",
        "for idx in indices:\n",
        "    print(f\"Time: {sol.t[idx]:.1f}s, Location: (x={sol.y[0, idx]:.2f}, y={sol.y[1, idx]:.2f}, theta={sol.y[2, idx]:.2f} rad)\")\n"
      ]
    },
    {
      "cell_type": "markdown",
      "metadata": {
        "id": "UJfYViFXj69S"
      },
      "source": [
        "🧩 Use the simulation results to draw the graphs of $x(t)$, $y(t)$ and $\\theta(t)$."
      ]
    },
    {
      "cell_type": "code",
      "execution_count": null,
      "metadata": {
        "id": "MSI59T0uj69T"
      },
      "outputs": [],
      "source": [
        "pass"
      ]
    },
    {
      "cell_type": "markdown",
      "metadata": {
        "id": "6wFnZrrUj69T"
      },
      "source": [
        "🧩 Use the simulation results to display the robot location every 0.5 second."
      ]
    },
    {
      "cell_type": "code",
      "execution_count": null,
      "metadata": {
        "id": "XaKskCQAj69U"
      },
      "outputs": [],
      "source": [
        "pass"
      ]
    },
    {
      "cell_type": "markdown",
      "metadata": {
        "id": "xP4NG_Xyj69U"
      },
      "source": [
        "🧩 What should be the analytical expression of $x(t)$, $y(t)$ and $\\theta(t)$?"
      ]
    },
    {
      "cell_type": "markdown",
      "metadata": {
        "id": "wDUZ3vGqj69c"
      },
      "source": [
        "**TODO**"
      ]
    },
    {
      "cell_type": "markdown",
      "metadata": {
        "id": "MylueTGDj69e"
      },
      "source": [
        "🧩 Do you experimental results match the theoretical results ? Draw the curves of the simulation error at time $t$ for $x$, $y$ and $\\theta$."
      ]
    },
    {
      "cell_type": "code",
      "execution_count": null,
      "metadata": {
        "id": "oWIezrkKj69f"
      },
      "outputs": [],
      "source": [
        "pass"
      ]
    },
    {
      "cell_type": "markdown",
      "metadata": {
        "id": "lSII9fhrj69g"
      },
      "source": [
        "🧩 If needed, adjust the simulation parameters the simulated position error is less than $1\\, \\mathrm{ mm}$."
      ]
    },
    {
      "cell_type": "code",
      "execution_count": null,
      "metadata": {
        "id": "pCGKhFPuj69h"
      },
      "outputs": [],
      "source": [
        "pass"
      ]
    }
  ],
  "metadata": {
    "kernelspec": {
      "display_name": "Python 3 (ipykernel)",
      "language": "python",
      "name": "python3"
    },
    "language_info": {
      "codemirror_mode": {
        "name": "ipython",
        "version": 3
      },
      "file_extension": ".py",
      "mimetype": "text/x-python",
      "name": "python",
      "nbconvert_exporter": "python",
      "pygments_lexer": "ipython3",
      "version": "3.12.0"
    },
    "colab": {
      "provenance": [],
      "include_colab_link": true
    }
  },
  "nbformat": 4,
  "nbformat_minor": 0
}